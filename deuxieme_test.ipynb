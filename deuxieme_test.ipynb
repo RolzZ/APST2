{
 "cells": [
  {
   "cell_type": "code",
   "execution_count": 6,
   "metadata": {},
   "outputs": [],
   "source": [
    "import os\n",
    "import random\n",
    "random.seed(42) \n",
    "\n",
    "import matplotlib.pyplot as plt\n",
    "import pandas as pd\n",
    "import seaborn as sns\n",
    "\n",
    "# Inline plots in Jupyter notebooks\n",
    "%matplotlib inline\n",
    "\n",
    "# better display of review text in dataframes\n",
    "pd.set_option('display.max_colwidth', None) \n",
    "\n",
    "# Seaborn style\n",
    "sns.set(style=\"whitegrid\")"
   ]
  },
  {
   "cell_type": "code",
   "execution_count": 7,
   "metadata": {},
   "outputs": [
    {
     "name": "stdout",
     "output_type": "stream",
     "text": [
      "Reading file: data/dataset/reviews.pickle\n",
      "Loaded 1777 reviews !\n"
     ]
    }
   ],
   "source": [
    "PICKLE_DIR = 'data/dataset/reviews.pickle'\n",
    "\n",
    "\n",
    "print(\"Reading file: \" + PICKLE_DIR)\n",
    "allocine_df = pd.read_pickle(PICKLE_DIR)\n",
    "   \n",
    "print(\"Loaded {} reviews !\".format(len(allocine_df)))"
   ]
  },
  {
   "cell_type": "code",
   "execution_count": 8,
   "metadata": {},
   "outputs": [
    {
     "data": {
      "text/html": [
       "<div>\n",
       "<style scoped>\n",
       "    .dataframe tbody tr th:only-of-type {\n",
       "        vertical-align: middle;\n",
       "    }\n",
       "\n",
       "    .dataframe tbody tr th {\n",
       "        vertical-align: top;\n",
       "    }\n",
       "\n",
       "    .dataframe thead th {\n",
       "        text-align: right;\n",
       "    }\n",
       "</style>\n",
       "<table border=\"1\" class=\"dataframe\">\n",
       "  <thead>\n",
       "    <tr style=\"text-align: right;\">\n",
       "      <th></th>\n",
       "      <th>film-url</th>\n",
       "      <th>rating</th>\n",
       "      <th>review</th>\n",
       "      <th>date</th>\n",
       "      <th>helpful</th>\n",
       "      <th>unhelpful</th>\n",
       "    </tr>\n",
       "  </thead>\n",
       "  <tbody>\n",
       "    <tr>\n",
       "      <th>65</th>\n",
       "      <td>http://www.allocine.fr/film/fichefilm-261592/critiques/spectateurs</td>\n",
       "      <td>3.5</td>\n",
       "      <td>Cette Comédie sympathique, coécrite et dirigée par Mohamed Hamidi, nous fait passer un réel bon moment. Le scénario, coécrit avec Alain-Michel Blanc (également scénariste de \"Né quelque part\" en 2012 et de \"La vache\" en 2016), nous offre une nouvelle histoire tendre et simple. Une histoire au rythme dynamique, avec de beaux personnages ; une \"belle équipe\" de filles, riche en couleurs, confrontée au machisme pitoyable de leurs détestables époux. Cette comédie sociétale a le mérite d'aborder la réinsertion ou la liberté de la femme dans un couple, le tout avec humour et émotion.&lt;br/&gt;Le casting nous offre un collège de comédiennes talentueuses rendant leurs personnages authentiques, avec un coup de cœur particulier pour la belle prestation de Sabrina Ouazani. Coté masculin, Kad Merad en entraineur de foot est toujours égal à lui même c'est-à-dire bon, tout comme Alban Ivanov dans un rôle encore une fois très typé.</td>\n",
       "      <td>2020-04-13</td>\n",
       "      <td>2</td>\n",
       "      <td>0</td>\n",
       "    </tr>\n",
       "    <tr>\n",
       "      <th>941</th>\n",
       "      <td>http://www.allocine.fr/film/fichefilm-257482/critiques/spectateurs</td>\n",
       "      <td>3.5</td>\n",
       "      <td>Tarantino revisite ici le Hollywood 68-70, mais à sa sauce, avec mélancolie - humour &amp; toujours la même maestria. En s'appuyant sur une doublette d'acteurs de feu, tout cela roule.&lt;br/&gt;Reste à mon sens quelques longueurs, même si tout est tellement minutieux &amp; précis et que l'on fait carrément un voyage dans le temps de 50 ans.&lt;br/&gt;A ne pas râter pour le fanas de cinéma américain de cette époque.</td>\n",
       "      <td>2019-08-19</td>\n",
       "      <td>13</td>\n",
       "      <td>3</td>\n",
       "    </tr>\n",
       "    <tr>\n",
       "      <th>832</th>\n",
       "      <td>http://www.allocine.fr/film/fichefilm-273270/critiques/spectateurs</td>\n",
       "      <td>4.5</td>\n",
       "      <td>très bon film qui change des bluettes&lt;br/&gt;original, acteurs superbes. humour++💕&lt;br/&gt;allez y ! amour sans concession</td>\n",
       "      <td>2020-01-21</td>\n",
       "      <td>2</td>\n",
       "      <td>0</td>\n",
       "    </tr>\n",
       "  </tbody>\n",
       "</table>\n",
       "</div>"
      ],
      "text/plain": [
       "                                                               film-url  \\\n",
       "65   http://www.allocine.fr/film/fichefilm-261592/critiques/spectateurs   \n",
       "941  http://www.allocine.fr/film/fichefilm-257482/critiques/spectateurs   \n",
       "832  http://www.allocine.fr/film/fichefilm-273270/critiques/spectateurs   \n",
       "\n",
       "     rating  \\\n",
       "65      3.5   \n",
       "941     3.5   \n",
       "832     4.5   \n",
       "\n",
       "                                                                                                                                                                                                                                                                                                                                                                                                                                                                                                                                                                                                                                                                                                                                                                                                                                                                                                                                                            review  \\\n",
       "65   Cette Comédie sympathique, coécrite et dirigée par Mohamed Hamidi, nous fait passer un réel bon moment. Le scénario, coécrit avec Alain-Michel Blanc (également scénariste de \"Né quelque part\" en 2012 et de \"La vache\" en 2016), nous offre une nouvelle histoire tendre et simple. Une histoire au rythme dynamique, avec de beaux personnages ; une \"belle équipe\" de filles, riche en couleurs, confrontée au machisme pitoyable de leurs détestables époux. Cette comédie sociétale a le mérite d'aborder la réinsertion ou la liberté de la femme dans un couple, le tout avec humour et émotion.<br/>Le casting nous offre un collège de comédiennes talentueuses rendant leurs personnages authentiques, avec un coup de cœur particulier pour la belle prestation de Sabrina Ouazani. Coté masculin, Kad Merad en entraineur de foot est toujours égal à lui même c'est-à-dire bon, tout comme Alban Ivanov dans un rôle encore une fois très typé.   \n",
       "941                                                                                                                                                                                                                                                                                                                                                                                                                                                                                                                                                Tarantino revisite ici le Hollywood 68-70, mais à sa sauce, avec mélancolie - humour & toujours la même maestria. En s'appuyant sur une doublette d'acteurs de feu, tout cela roule.<br/>Reste à mon sens quelques longueurs, même si tout est tellement minutieux & précis et que l'on fait carrément un voyage dans le temps de 50 ans.<br/>A ne pas râter pour le fanas de cinéma américain de cette époque.   \n",
       "832                                                                                                                                                                                                                                                                                                                                                                                                                                                                                                                                                                                                                                                                                                                                                                                                                                            très bon film qui change des bluettes<br/>original, acteurs superbes. humour++💕<br/>allez y ! amour sans concession   \n",
       "\n",
       "           date  helpful  unhelpful  \n",
       "65   2020-04-13        2          0  \n",
       "941  2019-08-19       13          3  \n",
       "832  2020-01-21        2          0  "
      ]
     },
     "execution_count": 8,
     "metadata": {},
     "output_type": "execute_result"
    }
   ],
   "source": [
    "allocine_df.sample(3, random_state=42)"
   ]
  },
  {
   "cell_type": "code",
   "execution_count": 9,
   "metadata": {},
   "outputs": [
    {
     "data": {
      "text/html": [
       "<div>\n",
       "<style scoped>\n",
       "    .dataframe tbody tr th:only-of-type {\n",
       "        vertical-align: middle;\n",
       "    }\n",
       "\n",
       "    .dataframe tbody tr th {\n",
       "        vertical-align: top;\n",
       "    }\n",
       "\n",
       "    .dataframe thead th {\n",
       "        text-align: right;\n",
       "    }\n",
       "</style>\n",
       "<table border=\"1\" class=\"dataframe\">\n",
       "  <thead>\n",
       "    <tr style=\"text-align: right;\">\n",
       "      <th></th>\n",
       "      <th>film-url</th>\n",
       "      <th>rating</th>\n",
       "      <th>review</th>\n",
       "      <th>date</th>\n",
       "      <th>helpful</th>\n",
       "      <th>unhelpful</th>\n",
       "    </tr>\n",
       "  </thead>\n",
       "  <tbody>\n",
       "    <tr>\n",
       "      <th>1565</th>\n",
       "      <td>http://www.allocine.fr/film/fichefilm-262493/critiques/spectateurs</td>\n",
       "      <td>2.0</td>\n",
       "      <td>Un exercice de style seduisant mais à force de mobiliser les références, de Lynch au Limier en passant par le pire Béla Tarr, le réalisateur en oublie l'originalité et l'émotion. Il se complaît dans le glauque gratuit et une non-direction de deux acteurs en roues libres.</td>\n",
       "      <td>2019-12-25</td>\n",
       "      <td>3</td>\n",
       "      <td>1</td>\n",
       "    </tr>\n",
       "    <tr>\n",
       "      <th>265</th>\n",
       "      <td>http://www.allocine.fr/film/fichefilm-138087/critiques/spectateurs</td>\n",
       "      <td>1.5</td>\n",
       "      <td>Brooklyn Affairs est un film qui raconte l'histoire d'un enquêteur privé de New York qui avec le syndrome de Gilles de la Tourette tente de résoudre le meurtre de son mentor. Ce film a des problèmes avec ses personnages et ses dialogues plats et sans intérêt ainsi qu'un rythme qui bouge incroyablement lentement. Vous avez parfois l'impression de regarder un film de 3 heures plutôt qu'un film de 2 heures 20 minutes. La durée et le rythme du film détruisent complètement toute excitation qui pourrait être trouvée. Avec une belle réalisation et une performance engagée d'Edward Norton Brooklyn Affairs finit par être un film très décevant avec de bons composants mais dans le désordre...</td>\n",
       "      <td>2020-07-19</td>\n",
       "      <td>6</td>\n",
       "      <td>5</td>\n",
       "    </tr>\n",
       "    <tr>\n",
       "      <th>1474</th>\n",
       "      <td>http://www.allocine.fr/film/fichefilm-212358/critiques/spectateurs</td>\n",
       "      <td>1.5</td>\n",
       "      <td>On a eu Terminator en pantoufles et camionnette de livreur, maintenant on aura James Bond qui épluche des pommes pour le petit déjeuner. Parfait! Sinon, on a aussi un méchant insipide (c'est juste le troisième mâle défiguré de suite, va peut-être falloir se renouveler non?), un scénario bancal à force de vouloir raccrocher toutes les branches depuis Casino Royale et une Léa Seydoux horripilante. Il était temps que Daniel Craig raccroche. S'il vous plaît, faites-nous un stand-alone pour le prochain Bond. En attendant, on gardera Casino Royale et Skyfall comme précieux souvenirs d'une époque dorée.</td>\n",
       "      <td>2021-10-11</td>\n",
       "      <td>27</td>\n",
       "      <td>11</td>\n",
       "    </tr>\n",
       "  </tbody>\n",
       "</table>\n",
       "</div>"
      ],
      "text/plain": [
       "                                                                film-url  \\\n",
       "1565  http://www.allocine.fr/film/fichefilm-262493/critiques/spectateurs   \n",
       "265   http://www.allocine.fr/film/fichefilm-138087/critiques/spectateurs   \n",
       "1474  http://www.allocine.fr/film/fichefilm-212358/critiques/spectateurs   \n",
       "\n",
       "      rating  \\\n",
       "1565     2.0   \n",
       "265      1.5   \n",
       "1474     1.5   \n",
       "\n",
       "                                                                                                                                                                                                                                                                                                                                                                                                                                                                                                                                                                                                                                                                                                                 review  \\\n",
       "1565                                                                                                                                                                                                                                                                                                                                                                                                                                    Un exercice de style seduisant mais à force de mobiliser les références, de Lynch au Limier en passant par le pire Béla Tarr, le réalisateur en oublie l'originalité et l'émotion. Il se complaît dans le glauque gratuit et une non-direction de deux acteurs en roues libres.   \n",
       "265   Brooklyn Affairs est un film qui raconte l'histoire d'un enquêteur privé de New York qui avec le syndrome de Gilles de la Tourette tente de résoudre le meurtre de son mentor. Ce film a des problèmes avec ses personnages et ses dialogues plats et sans intérêt ainsi qu'un rythme qui bouge incroyablement lentement. Vous avez parfois l'impression de regarder un film de 3 heures plutôt qu'un film de 2 heures 20 minutes. La durée et le rythme du film détruisent complètement toute excitation qui pourrait être trouvée. Avec une belle réalisation et une performance engagée d'Edward Norton Brooklyn Affairs finit par être un film très décevant avec de bons composants mais dans le désordre...   \n",
       "1474                                                                                        On a eu Terminator en pantoufles et camionnette de livreur, maintenant on aura James Bond qui épluche des pommes pour le petit déjeuner. Parfait! Sinon, on a aussi un méchant insipide (c'est juste le troisième mâle défiguré de suite, va peut-être falloir se renouveler non?), un scénario bancal à force de vouloir raccrocher toutes les branches depuis Casino Royale et une Léa Seydoux horripilante. Il était temps que Daniel Craig raccroche. S'il vous plaît, faites-nous un stand-alone pour le prochain Bond. En attendant, on gardera Casino Royale et Skyfall comme précieux souvenirs d'une époque dorée.   \n",
       "\n",
       "            date  helpful  unhelpful  \n",
       "1565  2019-12-25        3          1  \n",
       "265   2020-07-19        6          5  \n",
       "1474  2021-10-11       27         11  "
      ]
     },
     "execution_count": 9,
     "metadata": {},
     "output_type": "execute_result"
    }
   ],
   "source": [
    "negative_reviews = allocine_df[allocine_df['rating'] <= 2.0]\n",
    "negative_reviews.sample(3, random_state=42)"
   ]
  },
  {
   "cell_type": "code",
   "execution_count": 10,
   "metadata": {},
   "outputs": [
    {
     "data": {
      "text/html": [
       "<div>\n",
       "<style scoped>\n",
       "    .dataframe tbody tr th:only-of-type {\n",
       "        vertical-align: middle;\n",
       "    }\n",
       "\n",
       "    .dataframe tbody tr th {\n",
       "        vertical-align: top;\n",
       "    }\n",
       "\n",
       "    .dataframe thead th {\n",
       "        text-align: right;\n",
       "    }\n",
       "</style>\n",
       "<table border=\"1\" class=\"dataframe\">\n",
       "  <thead>\n",
       "    <tr style=\"text-align: right;\">\n",
       "      <th></th>\n",
       "      <th>film-url</th>\n",
       "      <th>rating</th>\n",
       "      <th>review</th>\n",
       "      <th>date</th>\n",
       "      <th>helpful</th>\n",
       "      <th>unhelpful</th>\n",
       "    </tr>\n",
       "  </thead>\n",
       "  <tbody>\n",
       "    <tr>\n",
       "      <th>1644</th>\n",
       "      <td>http://www.allocine.fr/film/fichefilm-241020/critiques/spectateurs</td>\n",
       "      <td>4.0</td>\n",
       "      <td>C'est surprenant je ne m'attendais pas à un film terrible. J y suis allée par curiosité. Et bonne surprise !!! Enfin des anges pas du tout vulgaire comme les précédentes. Le scénario est simple mais efficace. Bref j'attends la suite.</td>\n",
       "      <td>2019-12-25</td>\n",
       "      <td>15</td>\n",
       "      <td>12</td>\n",
       "    </tr>\n",
       "    <tr>\n",
       "      <th>1750</th>\n",
       "      <td>http://www.allocine.fr/film/fichefilm-268280/critiques/spectateurs</td>\n",
       "      <td>4.5</td>\n",
       "      <td>Un très bon film français, ni surjoué ni trop ambitieux. Une belle histoire, un bon jeu d'acteurs (sublimé par la très belle Camille Claris). L'histoire est belle, émouvante, et différente de ce qu'on a l'habitude de voir. J'ai eu la chance de voir l'équipe du film au cinéma à Bastille. Film à voir.</td>\n",
       "      <td>2020-02-06</td>\n",
       "      <td>4</td>\n",
       "      <td>1</td>\n",
       "    </tr>\n",
       "    <tr>\n",
       "      <th>156</th>\n",
       "      <td>http://www.allocine.fr/film/fichefilm-267951/critiques/spectateurs</td>\n",
       "      <td>5.0</td>\n",
       "      <td>Un tres beau film a voir, les acteurs sont pleins de tendresse. On pleure pour sauver les animaux, on pleure pour sauver les hommes....&lt;br/&gt;Le Morvan est magnifique avec son village tout en pente.</td>\n",
       "      <td>2020-01-02</td>\n",
       "      <td>10</td>\n",
       "      <td>2</td>\n",
       "    </tr>\n",
       "  </tbody>\n",
       "</table>\n",
       "</div>"
      ],
      "text/plain": [
       "                                                                film-url  \\\n",
       "1644  http://www.allocine.fr/film/fichefilm-241020/critiques/spectateurs   \n",
       "1750  http://www.allocine.fr/film/fichefilm-268280/critiques/spectateurs   \n",
       "156   http://www.allocine.fr/film/fichefilm-267951/critiques/spectateurs   \n",
       "\n",
       "      rating  \\\n",
       "1644     4.0   \n",
       "1750     4.5   \n",
       "156      5.0   \n",
       "\n",
       "                                                                                                                                                                                                                                                                                                            review  \\\n",
       "1644                                                                     C'est surprenant je ne m'attendais pas à un film terrible. J y suis allée par curiosité. Et bonne surprise !!! Enfin des anges pas du tout vulgaire comme les précédentes. Le scénario est simple mais efficace. Bref j'attends la suite.   \n",
       "1750  Un très bon film français, ni surjoué ni trop ambitieux. Une belle histoire, un bon jeu d'acteurs (sublimé par la très belle Camille Claris). L'histoire est belle, émouvante, et différente de ce qu'on a l'habitude de voir. J'ai eu la chance de voir l'équipe du film au cinéma à Bastille. Film à voir.   \n",
       "156                                                                                                           Un tres beau film a voir, les acteurs sont pleins de tendresse. On pleure pour sauver les animaux, on pleure pour sauver les hommes....<br/>Le Morvan est magnifique avec son village tout en pente.   \n",
       "\n",
       "            date  helpful  unhelpful  \n",
       "1644  2019-12-25       15         12  \n",
       "1750  2020-02-06        4          1  \n",
       "156   2020-01-02       10          2  "
      ]
     },
     "execution_count": 10,
     "metadata": {},
     "output_type": "execute_result"
    }
   ],
   "source": [
    "positive_reviews = allocine_df[allocine_df['rating'] >= 4.0]\n",
    "positive_reviews.sample(3, random_state=42)"
   ]
  },
  {
   "cell_type": "code",
   "execution_count": 11,
   "metadata": {},
   "outputs": [
    {
     "name": "stderr",
     "output_type": "stream",
     "text": [
      "/var/folders/3t/q986tyj15hgcphmh66bl9n340000gn/T/ipykernel_2363/660597020.py:7: FutureWarning: \n",
      "\n",
      "Passing `palette` without assigning `hue` is deprecated and will be removed in v0.14.0. Assign the `x` variable to `hue` and set `legend=False` for the same effect.\n",
      "\n",
      "  ax = sns.countplot(data=allocine_df, x='rating', palette=goodbad_palette)\n"
     ]
    },
    {
     "data": {
      "image/png": "[encoded data removed]",
      "text/plain": [
       "<Figure size 800x500 with 1 Axes>"
      ]
     },
     "metadata": {},
     "output_type": "display_data"
    }
   ],
   "source": [
    "# Ratings\n",
    "plt.figure(figsize=(8,5))\n",
    "\n",
    "goodbad_palette = sns.color_palette(\"RdYlGn_r\", n_colors=10)\n",
    "goodbad_palette.reverse()\n",
    "\n",
    "ax = sns.countplot(data=allocine_df, x='rating', palette=goodbad_palette)\n",
    "ax.set(xlabel='Rating', ylabel='')\n",
    "\n",
    "# Finalize the plot\n",
    "sns.despine(bottom=True)\n",
    "plt.tight_layout(h_pad=2)\n",
    "\n",
    "# Saving plot\n",
    "fig = ax.get_figure()\n",
    "#fig.savefig('img/rating_counts.png', dpi=200)"
   ]
  },
  {
   "cell_type": "code",
   "execution_count": 12,
   "metadata": {},
   "outputs": [],
   "source": [
    "def find_polarity(row):\n",
    "    if row['rating'] <= 2.0:\n",
    "        return -1\n",
    "    elif row['rating'] >= 4.0:\n",
    "        return 1\n",
    "    else:\n",
    "        return 0\n",
    "\n",
    "allocine_df['polarity'] = allocine_df.apply(lambda row : find_polarity(row), axis=1) "
   ]
  },
  {
   "cell_type": "code",
   "execution_count": 13,
   "metadata": {},
   "outputs": [
    {
     "name": "stderr",
     "output_type": "stream",
     "text": [
      "/var/folders/3t/q986tyj15hgcphmh66bl9n340000gn/T/ipykernel_2363/1007430402.py:6: FutureWarning: \n",
      "\n",
      "Passing `palette` without assigning `hue` is deprecated and will be removed in v0.14.0. Assign the `x` variable to `hue` and set `legend=False` for the same effect.\n",
      "\n",
      "  ax = sns.countplot(data=allocine_df, x='polarity', palette=goodbad_palette)\n",
      "/var/folders/3t/q986tyj15hgcphmh66bl9n340000gn/T/ipykernel_2363/1007430402.py:8: UserWarning: set_ticklabels() should only be used with a fixed number of ticks, i.e. after set_ticks() or using a FixedLocator.\n",
      "  ax.set_xticklabels(['Negative', 'Neutral', 'Positive'])\n"
     ]
    },
    {
     "data": {
      "image/png": "[encoded data removed]",
      "text/plain": [
       "<Figure size 800x500 with 1 Axes>"
      ]
     },
     "metadata": {},
     "output_type": "display_data"
    }
   ],
   "source": [
    "plt.figure(figsize=(8,5))\n",
    "\n",
    "goodbad_palette = sns.color_palette(\"RdYlGn_r\", n_colors=3)\n",
    "goodbad_palette.reverse()\n",
    "\n",
    "ax = sns.countplot(data=allocine_df, x='polarity', palette=goodbad_palette)\n",
    "ax.set(xlabel='', ylabel='')\n",
    "ax.set_xticklabels(['Negative', 'Neutral', 'Positive'])\n",
    "\n",
    "# Frenquencies\n",
    "ncount = len(allocine_df)\n",
    "for p in ax.patches:\n",
    "    x=p.get_bbox().get_points()[:,0]\n",
    "    y=p.get_bbox().get_points()[1,1]\n",
    "    ax.annotate('{:.1f}%'.format(100.*y/ncount), (x.mean(), y), \n",
    "            ha='center', va='bottom') # set the alignment of the text\n",
    "\n",
    "# Finalize the plot\n",
    "sns.despine(bottom=True)\n",
    "plt.tight_layout(h_pad=2)\n",
    "\n",
    "# Saving plot\n",
    "fig = ax.get_figure()\n",
    "#fig.savefig('img/polarity_frequency.png', dpi=200)"
   ]
  },
  {
   "cell_type": "code",
   "execution_count": 14,
   "metadata": {},
   "outputs": [
    {
     "name": "stderr",
     "output_type": "stream",
     "text": [
      "/var/folders/3t/q986tyj15hgcphmh66bl9n340000gn/T/ipykernel_2363/3155840454.py:4: UserWarning: \n",
      "\n",
      "`distplot` is a deprecated function and will be removed in seaborn v0.14.0.\n",
      "\n",
      "Please adapt your code to use either `displot` (a figure-level function with\n",
      "similar flexibility) or `histplot` (an axes-level function for histograms).\n",
      "\n",
      "For a guide to updating your code to use the new functions, please see\n",
      "https://gist.github.com/mwaskom/de44147ed2974457ad6372750bbe5751\n",
      "\n",
      "  ax = sns.distplot(reviews_length, bins=150, kde=False, hist_kws=dict(alpha=0.8))\n"
     ]
    },
    {
     "data": {
      "image/png": "[encoded data removed]",
      "text/plain": [
       "<Figure size 1000x500 with 1 Axes>"
      ]
     },
     "metadata": {},
     "output_type": "display_data"
    }
   ],
   "source": [
    "reviews_length = allocine_df['review'].str.len()\n",
    "\n",
    "plt.figure(figsize=(10,5))\n",
    "ax = sns.distplot(reviews_length, bins=150, kde=False, hist_kws=dict(alpha=0.8))\n",
    "ax.set(xlabel='Review Length')\n",
    "\n",
    "# Finalize the plot\n",
    "sns.despine(bottom=True)\n",
    "plt.tight_layout(h_pad=2)\n",
    "\n",
    "# Saving plot\n",
    "fig = ax.get_figure()\n",
    "#fig.savefig('img/reviews_length.png', dpi=200)"
   ]
  },
  {
   "cell_type": "code",
   "execution_count": 15,
   "metadata": {},
   "outputs": [
    {
     "name": "stdout",
     "output_type": "stream",
     "text": [
      "257 reviews with LEN > 2000 (14.46 % of total data)\n"
     ]
    }
   ],
   "source": [
    "THRESHOLD = 2000\n",
    "short_reviews = allocine_df[allocine_df['review'].str.len() <= THRESHOLD]\n",
    "long_reviews =  allocine_df[allocine_df['review'].str.len() > THRESHOLD]\n",
    "\n",
    "print(\"{} reviews with LEN > {} ({:.2f} % of total data)\".format(\n",
    "    len(long_reviews),\n",
    "    THRESHOLD,\n",
    "    100 * len(long_reviews) / len(allocine_df)\n",
    "))"
   ]
  },
  {
   "cell_type": "code",
   "execution_count": 16,
   "metadata": {},
   "outputs": [
    {
     "data": {
      "text/html": [
       "<div>\n",
       "<style scoped>\n",
       "    .dataframe tbody tr th:only-of-type {\n",
       "        vertical-align: middle;\n",
       "    }\n",
       "\n",
       "    .dataframe tbody tr th {\n",
       "        vertical-align: top;\n",
       "    }\n",
       "\n",
       "    .dataframe thead th {\n",
       "        text-align: right;\n",
       "    }\n",
       "</style>\n",
       "<table border=\"1\" class=\"dataframe\">\n",
       "  <thead>\n",
       "    <tr style=\"text-align: right;\">\n",
       "      <th></th>\n",
       "      <th>film-url</th>\n",
       "      <th>rating</th>\n",
       "      <th>review</th>\n",
       "      <th>date</th>\n",
       "      <th>helpful</th>\n",
       "      <th>unhelpful</th>\n",
       "      <th>polarity</th>\n",
       "    </tr>\n",
       "  </thead>\n",
       "  <tbody>\n",
       "    <tr>\n",
       "      <th>2</th>\n",
       "      <td>http://www.allocine.fr/film/fichefilm-265567/critiques/spectateurs</td>\n",
       "      <td>3.5</td>\n",
       "      <td>Allez soyons franc, « 1917 » est un film de guerre maîtrisé de bout en bout qui vaut son pesant de popcorn. Certains diront blockbuster, d’autres film froid qui retrace sans empathie l’expérience de nos ancêtres… personnellement j’opterais pour film à budget moyen qui se démarque en utilisant une technique certes déjà connue et utilisée, mais une technique quand même : le plan séquence. Sam Mendes avait sans doute l’envie de nous faire vivre en temps réel une mission clé de la survie des troupes alliés lors de la Grande Guerre. C’est réussi. La reconstitution des décors et des costumes est tout simplement splendide. Nous sommes immergés dans un no-man’s land des plus terrifiants et authentiques et nous suivons une course contre la montre qui s’apparente à du suicide.&lt;br/&gt;&lt;br/&gt;« 1917 » est donc une bonne retranscription composée de maîtrise historique et technique. Sam Mendes l’a d’ailleurs souligné dans une de ses interviews : « Très peu de films évoquent la Première Guerre Mondiale car c’est une guerre immobile qui consistait à attendre des jours et des jours dans les tranchées pour finalement mourir 200 ou 300 mètres plus loin ». L’originalité de ce film, c’est la singularité d’une petite mission intégrée dans la guerre. Rajouter une petite histoire dans l’histoire.&lt;br/&gt;&lt;br/&gt;Contrairement à un film comme « Dunkerque » de Christopher Nolan, « 1917 » ne fait pas un documentaire de la guerre et n’hésite pas à nous donner une dimension héroïque (et ce sans en faire des tonnes non plus). Un homme pour en sauver 1 600 autres, 1 600 autres comme lui. La mission aurait pu être assignée à lui ou à un autre, la finalité aurait été la même. D’où l’importance d’un personnage que l’on suit et qui a un impact tout au long de l’histoire sans pour autant être mis sur un piédestal.&lt;br/&gt;&lt;br/&gt;En résumé, « 1917 » est un film prenant et abouti où très peu de défauts peuvent être décelés en termes de technique ou de procédés utilisés. On se croit vraiment sur place avec les poilus. Reste à savoir si c’est un film qui pousse à la réflexion ? Pas nécessairement. Bien entendu on peut repenser aux horreurs de la guerre (villages rasés, faune et flore dévastés) et la souffrance vécue dans les tranchées. Malheureusement ce n’est pas l’objet du film et l’empathie reste assez « légère » dans la narration. Belle claque visuelle toutefois.</td>\n",
       "      <td>2020-01-20</td>\n",
       "      <td>46</td>\n",
       "      <td>32</td>\n",
       "      <td>0</td>\n",
       "    </tr>\n",
       "  </tbody>\n",
       "</table>\n",
       "</div>"
      ],
      "text/plain": [
       "                                                             film-url  rating  \\\n",
       "2  http://www.allocine.fr/film/fichefilm-265567/critiques/spectateurs     3.5   \n",
       "\n",
       "                                                                                                                                                                                                                                                                                                                                                                                                                                                                                                                                                                                                                                                                                                                                                                                                                                                                                                                                                                                                                                                                                                                                                                                                                                                                                                                                                                                                                                                                                                                                                                                                                                                                                                                                                                                                                                                                                                                                                                                                                                                                                                                                                                                                                                                                                                                                                                                                                                            review  \\\n",
       "2  Allez soyons franc, « 1917 » est un film de guerre maîtrisé de bout en bout qui vaut son pesant de popcorn. Certains diront blockbuster, d’autres film froid qui retrace sans empathie l’expérience de nos ancêtres… personnellement j’opterais pour film à budget moyen qui se démarque en utilisant une technique certes déjà connue et utilisée, mais une technique quand même : le plan séquence. Sam Mendes avait sans doute l’envie de nous faire vivre en temps réel une mission clé de la survie des troupes alliés lors de la Grande Guerre. C’est réussi. La reconstitution des décors et des costumes est tout simplement splendide. Nous sommes immergés dans un no-man’s land des plus terrifiants et authentiques et nous suivons une course contre la montre qui s’apparente à du suicide.<br/><br/>« 1917 » est donc une bonne retranscription composée de maîtrise historique et technique. Sam Mendes l’a d’ailleurs souligné dans une de ses interviews : « Très peu de films évoquent la Première Guerre Mondiale car c’est une guerre immobile qui consistait à attendre des jours et des jours dans les tranchées pour finalement mourir 200 ou 300 mètres plus loin ». L’originalité de ce film, c’est la singularité d’une petite mission intégrée dans la guerre. Rajouter une petite histoire dans l’histoire.<br/><br/>Contrairement à un film comme « Dunkerque » de Christopher Nolan, « 1917 » ne fait pas un documentaire de la guerre et n’hésite pas à nous donner une dimension héroïque (et ce sans en faire des tonnes non plus). Un homme pour en sauver 1 600 autres, 1 600 autres comme lui. La mission aurait pu être assignée à lui ou à un autre, la finalité aurait été la même. D’où l’importance d’un personnage que l’on suit et qui a un impact tout au long de l’histoire sans pour autant être mis sur un piédestal.<br/><br/>En résumé, « 1917 » est un film prenant et abouti où très peu de défauts peuvent être décelés en termes de technique ou de procédés utilisés. On se croit vraiment sur place avec les poilus. Reste à savoir si c’est un film qui pousse à la réflexion ? Pas nécessairement. Bien entendu on peut repenser aux horreurs de la guerre (villages rasés, faune et flore dévastés) et la souffrance vécue dans les tranchées. Malheureusement ce n’est pas l’objet du film et l’empathie reste assez « légère » dans la narration. Belle claque visuelle toutefois.   \n",
       "\n",
       "         date  helpful  unhelpful  polarity  \n",
       "2  2020-01-20       46         32         0  "
      ]
     },
     "execution_count": 16,
     "metadata": {},
     "output_type": "execute_result"
    }
   ],
   "source": [
    "long_reviews.head(1)"
   ]
  },
  {
   "cell_type": "code",
   "execution_count": 17,
   "metadata": {},
   "outputs": [
    {
     "name": "stderr",
     "output_type": "stream",
     "text": [
      "/var/folders/3t/q986tyj15hgcphmh66bl9n340000gn/T/ipykernel_2363/3655083358.py:4: UserWarning: \n",
      "\n",
      "`distplot` is a deprecated function and will be removed in seaborn v0.14.0.\n",
      "\n",
      "Please adapt your code to use either `displot` (a figure-level function with\n",
      "similar flexibility) or `histplot` (an axes-level function for histograms).\n",
      "\n",
      "For a guide to updating your code to use the new functions, please see\n",
      "https://gist.github.com/mwaskom/de44147ed2974457ad6372750bbe5751\n",
      "\n",
      "  ax = sns.distplot(short_reviews_length, bins=100, kde=False, hist_kws=dict(alpha=0.8))\n"
     ]
    },
    {
     "data": {
      "image/png": "[encoded data removed]",
      "text/plain": [
       "<Figure size 800x500 with 1 Axes>"
      ]
     },
     "metadata": {},
     "output_type": "display_data"
    }
   ],
   "source": [
    "short_reviews_length = short_reviews['review'].str.len()\n",
    "\n",
    "plt.figure(figsize=(8,5))\n",
    "ax = sns.distplot(short_reviews_length, bins=100, kde=False, hist_kws=dict(alpha=0.8))\n",
    "ax.set(xlabel='Review Length')\n",
    "\n",
    "# Finalize the plot\n",
    "sns.despine(bottom=True)\n",
    "plt.tight_layout(h_pad=2)\n",
    "\n",
    "# Saving plot\n",
    "fig = ax.get_figure()\n",
    "#fig.savefig('img/short_reviews_length.png', dpi=200)"
   ]
  },
  {
   "cell_type": "code",
   "execution_count": 18,
   "metadata": {},
   "outputs": [
    {
     "name": "stdout",
     "output_type": "stream",
     "text": [
      "Length: 1777\n"
     ]
    }
   ],
   "source": [
    "dataset_df = allocine_df.copy()\n",
    "initial_len = len(dataset_df)\n",
    "print(\"Length: {}\".format(initial_len))"
   ]
  },
  {
   "cell_type": "code",
   "execution_count": 19,
   "metadata": {},
   "outputs": [],
   "source": [
    "def loss_percentage(df, previous_length):\n",
    "    new_length = len(df)\n",
    "    percentage = 100*(1-(new_length/previous_length))    \n",
    "    return new_length, percentage  "
   ]
  },
  {
   "cell_type": "code",
   "execution_count": 20,
   "metadata": {},
   "outputs": [
    {
     "name": "stdout",
     "output_type": "stream",
     "text": [
      "Length: 1284 (-27.7 %)\n",
      "Length: 1120 (-12.8 %)\n",
      "Total loss: (-37.0 %)\n"
     ]
    }
   ],
   "source": [
    "# 1. Drop columns we don't need\n",
    "dataset_df = dataset_df.drop(columns=['rating', 'date', 'helpful', 'unhelpful'])\n",
    "\n",
    "# 2. Drop rows we don't need (neutral polarity)\n",
    "dataset_df = dataset_df[dataset_df['polarity'] != 0]\n",
    "length, percentage = loss_percentage(dataset_df, initial_len)\n",
    "print(\"Length: {} (-{:.1f} %)\".format(length, percentage))\n",
    "\n",
    "# 3. Remove long reviews\n",
    "LENGTH_THRESH = 2000\n",
    "dataset_df = dataset_df[dataset_df['review'].str.len() <= LENGTH_THRESH]\n",
    "length, percentage = loss_percentage(dataset_df, length)\n",
    "print(\"Length: {} (-{:.1f} %)\".format(length, percentage))\n",
    "\n",
    "# 4. Limit number of reviews per film\n",
    "\"\"\"\n",
    "MAX_REVIEWS_PER_FILM = 30\n",
    "grouped = dataset_df.groupby('film-url')\n",
    "for ids in grouped.groups.values():\n",
    "    num_reviews = len(ids)    \n",
    "    if num_reviews > MAX_REVIEWS_PER_FILM:\n",
    "        sampling_size = num_reviews - MAX_REVIEWS_PER_FILM\n",
    "        ids_to_drop = random.sample(list(ids), sampling_size)\n",
    "        dataset_df = dataset_df.drop(ids_to_drop)\n",
    "        \n",
    "length, percentage = loss_percentage(dataset_df, length)\n",
    "print(\"Length: {} (-{:.1f} %)\".format(length, percentage))\n",
    "\"\"\"\n",
    "# Total loss\n",
    "length, percentage = loss_percentage(dataset_df, initial_len)\n",
    "print(\"Total loss: (-{:.1f} %)\".format(percentage))"
   ]
  },
  {
   "cell_type": "code",
   "execution_count": 21,
   "metadata": {},
   "outputs": [],
   "source": [
    "# Change -1 to 0 for negative polarity\n",
    "dataset_df.loc[dataset_df['polarity'] == -1, 'polarity'] = 0"
   ]
  },
  {
   "cell_type": "code",
   "execution_count": 22,
   "metadata": {},
   "outputs": [
    {
     "data": {
      "text/plain": [
       "polarity\n",
       "0    431\n",
       "1    689\n",
       "dtype: int64"
      ]
     },
     "execution_count": 22,
     "metadata": {},
     "output_type": "execute_result"
    }
   ],
   "source": [
    "dataset_df.groupby('polarity').size()"
   ]
  },
  {
   "cell_type": "code",
   "execution_count": 23,
   "metadata": {},
   "outputs": [],
   "source": [
    "import re\n",
    "\n",
    "def clean_text(text):\n",
    "    text = text.replace('\\xa0', ' ')\n",
    "    text = text.replace('\\x92', \"'\")\n",
    "    \n",
    "    # Substituting multiple spaces with single space\n",
    "    # Also remove '\\n' and '\\r' occurences\n",
    "    text= re.sub(r'\\s+', ' ', text, flags=re.I)\n",
    "    \n",
    "    return text\n",
    " \n",
    "dataset_df['review'] = dataset_df['review'].apply(clean_text)"
   ]
  },
  {
   "cell_type": "code",
   "execution_count": 24,
   "metadata": {},
   "outputs": [],
   "source": [
    "# Remove reviews with less than 3 characters\n",
    "# Done after text processing on purpose\n",
    "dataset_df = dataset_df[dataset_df['review'].str.len() > 2]"
   ]
  },
  {
   "cell_type": "code",
   "execution_count": 25,
   "metadata": {},
   "outputs": [
    {
     "data": {
      "text/html": [
       "<div>\n",
       "<style scoped>\n",
       "    .dataframe tbody tr th:only-of-type {\n",
       "        vertical-align: middle;\n",
       "    }\n",
       "\n",
       "    .dataframe tbody tr th {\n",
       "        vertical-align: top;\n",
       "    }\n",
       "\n",
       "    .dataframe thead th {\n",
       "        text-align: right;\n",
       "    }\n",
       "</style>\n",
       "<table border=\"1\" class=\"dataframe\">\n",
       "  <thead>\n",
       "    <tr style=\"text-align: right;\">\n",
       "      <th></th>\n",
       "      <th>film-url</th>\n",
       "      <th>review</th>\n",
       "      <th>polarity</th>\n",
       "    </tr>\n",
       "  </thead>\n",
       "  <tbody>\n",
       "    <tr>\n",
       "      <th>402</th>\n",
       "      <td>http://www.allocine.fr/film/fichefilm-172048/critiques/spectateurs</td>\n",
       "      <td>Que retenir de ce troisième volet des BAD BOYS ? Pas grand-chose, cascades et fusillades à tous va et humour orienté en dessous de la ceinture ; de plus le scénario est faiblard. Dés la première scène,le duo roule en porche à fond dans la ville puis dans le sable pour aller la maternité&lt;br/&gt;, le ton du film est donné, la suite est on comprend que la suite va être long, très long...</td>\n",
       "      <td>0</td>\n",
       "    </tr>\n",
       "    <tr>\n",
       "      <th>163</th>\n",
       "      <td>http://www.allocine.fr/film/fichefilm-267951/critiques/spectateurs</td>\n",
       "      <td>Un très bon film français, j ai adoré les acteurs, surtout Alex, les paysages, le scénario, j ai eu et j ai pleuré d émotion , bref rien à redire pour ma part, pas de caricature ni de mièvrerie, que du plaisir à regarder.</td>\n",
       "      <td>1</td>\n",
       "    </tr>\n",
       "    <tr>\n",
       "      <th>1555</th>\n",
       "      <td>http://www.allocine.fr/film/fichefilm-262493/critiques/spectateurs</td>\n",
       "      <td>Deux acteurs magnifiques mais pour quoi faire ? Que veut-on nous dire avec ce huis clos fantasmatique ? Sur les rapport maître/esclave, Joseph Losey avait fait dix fois mieux, avec The Servant. La réalisation est prétentieuse, des plans interminables sur les mécanismes du phare, les détails d'une table, d'une bouteille. C'est long, très long, redondant, il faut s'accrocher pour rester jusqu'au bout. A éviter.</td>\n",
       "      <td>0</td>\n",
       "    </tr>\n",
       "    <tr>\n",
       "      <th>1690</th>\n",
       "      <td>http://www.allocine.fr/film/fichefilm-264228/critiques/spectateurs</td>\n",
       "      <td>C'est un film engagé qui nous est donné à voir. Il y a une réelle réflexion sur le monde politique et de sa place et action dans le monde en pleine mutation avec les enjeux de disparition des ressources naturelles. Le duo Demoustier / Luchini est savoureux. La comédienne nous montre une palette d'émotions intéressante. La bande-annonce n'était qu'un trailer ce qui est de plus en plus rare dans une période où tout est dévoilé trop tôt. Hamzaoui a une rôle dont elle s'acquitte bien. Je recommande ce film</td>\n",
       "      <td>1</td>\n",
       "    </tr>\n",
       "    <tr>\n",
       "      <th>842</th>\n",
       "      <td>http://www.allocine.fr/film/fichefilm-232013/critiques/spectateurs</td>\n",
       "      <td>Ce film est à mettre en miroir avec le premier Jack Reacher sorti en 2012. On a un héros viril, armé, qui est confronté à une enquête compliquée, dangereuse, où l'on ne sait pas exactement qui est derrière le traquenard, et ce, dans un Nord-Est américain à l'allure très industrielle, un peu désabusée. Tout comme Reacher, le héros est un ancien militaire, mais ici il est devenu expert comptable, et surtout c'est un homme né avec le syndrome d'Asperger, un autiste. Ben Affleck joue avec excellence, cet acteur qui jouait mal dans ses jeunes années (Armageddon) est maintenant un monstre sacré. Gone Girl, Batman V Superman, Argo, et maintenant Mr Wolff, il s'illustre dans un certain équilibre entre émotion et froideur dans l'action brute. La façon de filmer fait très film d'auteur, là où Jack Reacher est plutôt dans les canons du polar hollywoodien. J'ai entendu les gens rire souvent dans la salle, en effet certaines scènes étaient cocasses autour du personnage de Ben Affleck et de son autisme mêlé à une virilité brute, bien que moi-même je n'ai pas trouvé que ce soit forcément un film comique. Mention spéciale à la belle Anna Kendrick, et à JK Simmons en haut fonctionnaire réfléchi et calculateur et Jon bernthal excellent comme d'habitude. Une très bonne surprise.</td>\n",
       "      <td>1</td>\n",
       "    </tr>\n",
       "  </tbody>\n",
       "</table>\n",
       "</div>"
      ],
      "text/plain": [
       "                                                                film-url  \\\n",
       "402   http://www.allocine.fr/film/fichefilm-172048/critiques/spectateurs   \n",
       "163   http://www.allocine.fr/film/fichefilm-267951/critiques/spectateurs   \n",
       "1555  http://www.allocine.fr/film/fichefilm-262493/critiques/spectateurs   \n",
       "1690  http://www.allocine.fr/film/fichefilm-264228/critiques/spectateurs   \n",
       "842   http://www.allocine.fr/film/fichefilm-232013/critiques/spectateurs   \n",
       "\n",
       "                                                                                                                                                                                                                                                                                                                                                                                                                                                                                                                                                                                                                                                                                                                                                                                                                                                                                                                                                                                                                                                                                                                                                                                                                                                                                                                                review  \\\n",
       "402                                                                                                                                                                                                                                                                                                                                                                                                                                                                                                                                                                                                                                                                                                                                                                                                                                                                                                                                   Que retenir de ce troisième volet des BAD BOYS ? Pas grand-chose, cascades et fusillades à tous va et humour orienté en dessous de la ceinture ; de plus le scénario est faiblard. Dés la première scène,le duo roule en porche à fond dans la ville puis dans le sable pour aller la maternité<br/>, le ton du film est donné, la suite est on comprend que la suite va être long, très long...   \n",
       "163                                                                                                                                                                                                                                                                                                                                                                                                                                                                                                                                                                                                                                                                                                                                                                                                                                                                                                                                                                                                                                                                                                      Un très bon film français, j ai adoré les acteurs, surtout Alex, les paysages, le scénario, j ai eu et j ai pleuré d émotion , bref rien à redire pour ma part, pas de caricature ni de mièvrerie, que du plaisir à regarder.   \n",
       "1555                                                                                                                                                                                                                                                                                                                                                                                                                                                                                                                                                                                                                                                                                                                                                                                                                                                                                                      Deux acteurs magnifiques mais pour quoi faire ? Que veut-on nous dire avec ce huis clos fantasmatique ? Sur les rapport maître/esclave, Joseph Losey avait fait dix fois mieux, avec The Servant. La réalisation est prétentieuse, des plans interminables sur les mécanismes du phare, les détails d'une table, d'une bouteille. C'est long, très long, redondant, il faut s'accrocher pour rester jusqu'au bout. A éviter.   \n",
       "1690                                                                                                                                                                                                                                                                                                                                                                                                                                                                                                                                                                                                                                                                                                                                                                                                       C'est un film engagé qui nous est donné à voir. Il y a une réelle réflexion sur le monde politique et de sa place et action dans le monde en pleine mutation avec les enjeux de disparition des ressources naturelles. Le duo Demoustier / Luchini est savoureux. La comédienne nous montre une palette d'émotions intéressante. La bande-annonce n'était qu'un trailer ce qui est de plus en plus rare dans une période où tout est dévoilé trop tôt. Hamzaoui a une rôle dont elle s'acquitte bien. Je recommande ce film   \n",
       "842   Ce film est à mettre en miroir avec le premier Jack Reacher sorti en 2012. On a un héros viril, armé, qui est confronté à une enquête compliquée, dangereuse, où l'on ne sait pas exactement qui est derrière le traquenard, et ce, dans un Nord-Est américain à l'allure très industrielle, un peu désabusée. Tout comme Reacher, le héros est un ancien militaire, mais ici il est devenu expert comptable, et surtout c'est un homme né avec le syndrome d'Asperger, un autiste. Ben Affleck joue avec excellence, cet acteur qui jouait mal dans ses jeunes années (Armageddon) est maintenant un monstre sacré. Gone Girl, Batman V Superman, Argo, et maintenant Mr Wolff, il s'illustre dans un certain équilibre entre émotion et froideur dans l'action brute. La façon de filmer fait très film d'auteur, là où Jack Reacher est plutôt dans les canons du polar hollywoodien. J'ai entendu les gens rire souvent dans la salle, en effet certaines scènes étaient cocasses autour du personnage de Ben Affleck et de son autisme mêlé à une virilité brute, bien que moi-même je n'ai pas trouvé que ce soit forcément un film comique. Mention spéciale à la belle Anna Kendrick, et à JK Simmons en haut fonctionnaire réfléchi et calculateur et Jon bernthal excellent comme d'habitude. Une très bonne surprise.   \n",
       "\n",
       "      polarity  \n",
       "402          0  \n",
       "163          1  \n",
       "1555         0  \n",
       "1690         1  \n",
       "842          1  "
      ]
     },
     "execution_count": 25,
     "metadata": {},
     "output_type": "execute_result"
    }
   ],
   "source": [
    "dataset_df.sample(5, random_state=42)"
   ]
  },
  {
   "cell_type": "code",
   "execution_count": 26,
   "metadata": {},
   "outputs": [
    {
     "name": "stdout",
     "output_type": "stream",
     "text": [
      "polarity\n",
      "0    431\n",
      "1    431\n",
      "dtype: int64\n"
     ]
    },
    {
     "data": {
      "text/html": [
       "<div>\n",
       "<style scoped>\n",
       "    .dataframe tbody tr th:only-of-type {\n",
       "        vertical-align: middle;\n",
       "    }\n",
       "\n",
       "    .dataframe tbody tr th {\n",
       "        vertical-align: top;\n",
       "    }\n",
       "\n",
       "    .dataframe thead th {\n",
       "        text-align: right;\n",
       "    }\n",
       "</style>\n",
       "<table border=\"1\" class=\"dataframe\">\n",
       "  <thead>\n",
       "    <tr style=\"text-align: right;\">\n",
       "      <th></th>\n",
       "      <th>film-url</th>\n",
       "      <th>review</th>\n",
       "      <th>polarity</th>\n",
       "    </tr>\n",
       "  </thead>\n",
       "  <tbody>\n",
       "    <tr>\n",
       "      <th>1461</th>\n",
       "      <td>http://www.allocine.fr/film/fichefilm-263899/critiques/spectateurs</td>\n",
       "      <td>J’ai trouvé ce drame vraiment super. On ressent l’œuvre faite humblement avec le cœur. Cela m’a beaucoup parlé, tant par sa forme simple et épurée, que par son fond touchant. L’histoire peut paraître banale, mais elle est à l’image de la vie. Il y aura le personnage d'Ulysse, qui est attachant. On va voir son cas et la manière dont il va devoir combattre alors qu’il se sent abandonné par la société. C’est un vrai drame social. Est-ce que ce jeune homme fait les bons choix ? Mais peut-il vraiment faire autrement ? J’ai trouvé pertinent toutes les interrogations que soulève sa condition, celle de sa mère et la manière dont il veut arranger les choses. Cette histoire se tient bien et respire l’authenticité. On voit que la réalisatrice maitrise son sujet. Sandor Funtek interprète merveilleusement bien se rôle. Il m’a vraiment ému et j’ai compris son désespoir. Il faut aussi saluer Sandrine Bonnaire qui est bluffante dans sa prestation de la mère. J’ai aussi beaucoup apprécié Alexis Manenti. Il m’avait déjà impressionné il y a quelques mois dans LES MISÉRABLES. C’est donc véritablement complet car au-delà de la problématique, il va se passer quelques événements pour dynamiser le tout.</td>\n",
       "      <td>1</td>\n",
       "    </tr>\n",
       "    <tr>\n",
       "      <th>1225</th>\n",
       "      <td>http://www.allocine.fr/film/fichefilm-268136/critiques/spectateurs</td>\n",
       "      <td>C'est très long, trop long. Il ne se passe rien, on attend quelque chose de plus fort, de plus intense.&lt;br/&gt;C'est dommage car il y a de bons moments avec les psys respectifs ou le magasin mais ça se limite à ça.</td>\n",
       "      <td>0</td>\n",
       "    </tr>\n",
       "    <tr>\n",
       "      <th>256</th>\n",
       "      <td>http://www.allocine.fr/film/fichefilm-138087/critiques/spectateurs</td>\n",
       "      <td>le comédien et réalisateur Edward Norton nous propose un film noir vraiment excellent. la qualité de la réalisation est au rendez-vous..si en plus vous aimé cette ambiance année après guerre, grosses américaines (voiture), Jazz et suspens sur une histoire politico-mafieuse..alors je vous promets que vous allez passer un bon moment de vrai cinoche au sens noble du terme.ps : le casting en plus fait l'affaire.</td>\n",
       "      <td>1</td>\n",
       "    </tr>\n",
       "    <tr>\n",
       "      <th>444</th>\n",
       "      <td>http://www.allocine.fr/film/fichefilm-271733/critiques/spectateurs</td>\n",
       "      <td>Entre 1967 et 1968, nous allons nous immiscer dans la vie d'une école de l'est de la France formant de futures femmes au foyer \"parfaites\".&lt;br/&gt;Le souci, c'est que l'époque est en plein chamboulement, la révolution féminine (entre autre) est en marche...&lt;br/&gt;Tout n'est pas mauvais dans cette comédie gentillette dans laquelle la caricature de l'épouse modèle des années 1960 est largement appuyée, le souci c'est que ce n'est pas vraiment drôle, on frôle même souvent le lourd ou le grotesque, le dernier quart d'heure en est la parfaite illustration !&lt;br/&gt;En conclusion : de bons comédiens, un thème principal engageant, mais un scénario totalement plat dans une ambiance générale frôlant dangereusement le loufoque.&lt;br/&gt;Sans grand intérêt.&lt;br/&gt;Site cinemadourg.free.fr</td>\n",
       "      <td>0</td>\n",
       "    </tr>\n",
       "    <tr>\n",
       "      <th>747</th>\n",
       "      <td>http://www.allocine.fr/film/fichefilm-266257/critiques/spectateurs</td>\n",
       "      <td>Je n ai pas vu la problématique se la toxicité de la masculinité scolaire ; juste des tranches de vie dans un lycée ordinaire.&lt;br/&gt;Je n ai vu que les questions que se pose un frèrene pouvant plus être le jeune frère de son aîné (car décédé) et qui n est pas encore le grand frère que son cadet (car pas encore né).&lt;br/&gt;Processus poussant Tom à se questionner sur le type de modèle qu’il souhaite représentépour son jeune frère ; prenant conscience de la toxicité de ses modèles (père et frère). Il trouve un début de réponse à travers JB et Clarisse (frère et sœur).</td>\n",
       "      <td>1</td>\n",
       "    </tr>\n",
       "    <tr>\n",
       "      <th>1667</th>\n",
       "      <td>http://www.allocine.fr/film/fichefilm-55983/critiques/spectateurs</td>\n",
       "      <td>Relecture Américain du thriller asiatique \"Infernal Affairs\" par Martin Scorsese, The Departed s'avère particulièrement réussi. Il est porté par un luxueux casting, où tous les acteurs sont impeccables, notamment Leonardo DiCaprio et Matt Damon dans les deux rôles principaux, sans oublier la prestation de Jack Nicholson. Le rythme est effréné, dynamisé par une bande son rock'n roll dont Scorsese a le secret. La mise en scène est impeccable, tout comme la réalisation de Scorsese capable de plan vertigineux et de judicieux effets de style. Le scénario est bien écrit et passionnant, traité de manière intelligente, les thèmes de la loyauté ou de la tradition sont finement maitrisés, tout comme l'étude culturelle de la communauté Américaine et de ses immigrés. Du très grand art et encore une fois un grand film signé Scorsese.</td>\n",
       "      <td>1</td>\n",
       "    </tr>\n",
       "    <tr>\n",
       "      <th>1150</th>\n",
       "      <td>http://www.allocine.fr/film/fichefilm-264177/critiques/spectateurs</td>\n",
       "      <td>Une des plus mauvais adaptations du DCEU sur grand écran, le coté sombre et sérieux, laisse place à quelque chose de coloré, délirant, qui n'a plus rien à voir avec des films comme BVS, Justie League Snyder Cut. Le titre est Bird Of Prey mais le film aurait du s'appeler Harley Quinn tant celle ci s’approprie le devant de la scène ne laissant que des miettes à ses collègues féminins, et pour nos plus grand malheur. Margot Robbie a l'air de s'amuser en Harley Quinn, et c'est tant mieux mais aurait il valu convier les spectateurs à la fête, tant le spectacle qu'elle donne est pénible voir insupportable à regarder. Elle cabotine en Harley Quinn comme c'est pas possible, ce qui fait que le niveau de capital de sympathie est proche de zéro. A coté de cela, on a un personnage quasi invincible, ce qui l’éloigne encore des spectateurs tant on a l'impression que rien ne peut l'atteindre, et encore moins le méchant Black Mask, qui a plus sa place chez un psy tant ses sautes d'humeurs pose des questions sur la manière dont il est arrivé en haut de la pyramide de la pègre. Bref Harley Quinn est un ratage, un de plus pour le DCEU, qui doit avoir l'habitude après Suicide Squad et Justice League de Joss Whedon.</td>\n",
       "      <td>0</td>\n",
       "    </tr>\n",
       "    <tr>\n",
       "      <th>550</th>\n",
       "      <td>http://www.allocine.fr/film/fichefilm-269383/critiques/spectateurs</td>\n",
       "      <td>Alors d'abord merci le confinement car sinon je pense que je n'aurais pas regardé ce film. Mais, j'aime bien Valérie LEMERCIER et Jonathan COHEN allez soyons fou. Du coup, Je me lance je regarde et ... ba l'actrice principal Melha BEDIA joue mal on y croit pas .... enfin moi personnellement ... L'ensemble des autres acteurs joue bien mais leurs histoires n'apportent rien à l'histoire principal (je pense à Alison wheeler et Bastien Ughetto ) Bref, je trouve cela mal ficelé, mal joué, on y croit pas dommage car le casting me donnait envie. j'ai quand regardé jusqu’à la fin... un peu comme un épisode de derrick on sait que cela n'est pas top mais on envie de voir la fin.</td>\n",
       "      <td>0</td>\n",
       "    </tr>\n",
       "    <tr>\n",
       "      <th>1116</th>\n",
       "      <td>http://www.allocine.fr/film/fichefilm-273450/critiques/spectateurs</td>\n",
       "      <td>Une affiche qui présente Florence Foresti, Michaël Youn, Alban Ivanov et Corinne Masiero au casting pourrait freiner les anti-comédies populaires françaises. Mais quand on regarde le nom du belge Olivier Van Hooffstadt à la réalisation, on se rappelle qu';il a sorti le déjanté et culte \"Dikkenek\"; en 2006. Quatorze ans plus tard, il nous présente une bande de bras cassés entre cas-sociaux et flics corrompus qui se préparent à voler une tonne de drogue à l'aide d'un chien volé de la brigade des stups. Incroyable mais vrai, Michaël Youn est bon ! Tout est absurde, mais tout est assumé \"Lucky\" vous offrira une bonne dose de jeux de mots et de situations à la fois tendres et délirantes.&lt;br/&gt;D'autres critiques sur notre page Facebook : Cinéphiles 44 et notre site cinephiles44.com</td>\n",
       "      <td>1</td>\n",
       "    </tr>\n",
       "    <tr>\n",
       "      <th>1680</th>\n",
       "      <td>http://www.allocine.fr/film/fichefilm-55983/critiques/spectateurs</td>\n",
       "      <td>Au début, j'avais mis 4/5 à ce film que j'avais vraiment trouvé extra. Puis il y a quelques temps, j'ai vu certaines critiques qui disaient que c'était un mauvais film, un remake raté... Alors je sais qu'il en faut pour tous les goûts mais là, dire ça des \"Infiltrés\", je me suis dit c'est pas possible de balancer une... bêtise pareille ! Il est tout juste excellent; complexe et sombre à la fois. Personnellement, c'est un des Scorsese que je préfère. Un des meilleurs films sur la pègre. Du coup, je lui mets volontiers 5/5. Un chef-d'œuvre. Damon, DiCaprio et Nicholson sont très bons dans leurs rôles, quant à la bande son, elle est tout simplement énorme.</td>\n",
       "      <td>1</td>\n",
       "    </tr>\n",
       "  </tbody>\n",
       "</table>\n",
       "</div>"
      ],
      "text/plain": [
       "                                                                film-url  \\\n",
       "1461  http://www.allocine.fr/film/fichefilm-263899/critiques/spectateurs   \n",
       "1225  http://www.allocine.fr/film/fichefilm-268136/critiques/spectateurs   \n",
       "256   http://www.allocine.fr/film/fichefilm-138087/critiques/spectateurs   \n",
       "444   http://www.allocine.fr/film/fichefilm-271733/critiques/spectateurs   \n",
       "747   http://www.allocine.fr/film/fichefilm-266257/critiques/spectateurs   \n",
       "1667   http://www.allocine.fr/film/fichefilm-55983/critiques/spectateurs   \n",
       "1150  http://www.allocine.fr/film/fichefilm-264177/critiques/spectateurs   \n",
       "550   http://www.allocine.fr/film/fichefilm-269383/critiques/spectateurs   \n",
       "1116  http://www.allocine.fr/film/fichefilm-273450/critiques/spectateurs   \n",
       "1680   http://www.allocine.fr/film/fichefilm-55983/critiques/spectateurs   \n",
       "\n",
       "                                                                                                                                                                                                                                                                                                                                                                                                                                                                                                                                                                                                                                                                                                                                                                                                                                                                                                                                                                                                                                                                                                                                                                                                                                                              review  \\\n",
       "1461                  J’ai trouvé ce drame vraiment super. On ressent l’œuvre faite humblement avec le cœur. Cela m’a beaucoup parlé, tant par sa forme simple et épurée, que par son fond touchant. L’histoire peut paraître banale, mais elle est à l’image de la vie. Il y aura le personnage d'Ulysse, qui est attachant. On va voir son cas et la manière dont il va devoir combattre alors qu’il se sent abandonné par la société. C’est un vrai drame social. Est-ce que ce jeune homme fait les bons choix ? Mais peut-il vraiment faire autrement ? J’ai trouvé pertinent toutes les interrogations que soulève sa condition, celle de sa mère et la manière dont il veut arranger les choses. Cette histoire se tient bien et respire l’authenticité. On voit que la réalisatrice maitrise son sujet. Sandor Funtek interprète merveilleusement bien se rôle. Il m’a vraiment ému et j’ai compris son désespoir. Il faut aussi saluer Sandrine Bonnaire qui est bluffante dans sa prestation de la mère. J’ai aussi beaucoup apprécié Alexis Manenti. Il m’avait déjà impressionné il y a quelques mois dans LES MISÉRABLES. C’est donc véritablement complet car au-delà de la problématique, il va se passer quelques événements pour dynamiser le tout.   \n",
       "1225                                                                                                                                                                                                                                                                                                                                                                                                                                                                                                                                                                                                                                                                                                                                                                                                                                                                                                                                                                                                                                             C'est très long, trop long. Il ne se passe rien, on attend quelque chose de plus fort, de plus intense.<br/>C'est dommage car il y a de bons moments avec les psys respectifs ou le magasin mais ça se limite à ça.   \n",
       "256                                                                                                                                                                                                                                                                                                                                                                                                                                                                                                                                                                                                                                                                                                                                                                                                                                      le comédien et réalisateur Edward Norton nous propose un film noir vraiment excellent. la qualité de la réalisation est au rendez-vous..si en plus vous aimé cette ambiance année après guerre, grosses américaines (voiture), Jazz et suspens sur une histoire politico-mafieuse..alors je vous promets que vous allez passer un bon moment de vrai cinoche au sens noble du terme.ps : le casting en plus fait l'affaire.   \n",
       "444                                                                                                                                                                                                                                                                                                                                                                                                                                                              Entre 1967 et 1968, nous allons nous immiscer dans la vie d'une école de l'est de la France formant de futures femmes au foyer \"parfaites\".<br/>Le souci, c'est que l'époque est en plein chamboulement, la révolution féminine (entre autre) est en marche...<br/>Tout n'est pas mauvais dans cette comédie gentillette dans laquelle la caricature de l'épouse modèle des années 1960 est largement appuyée, le souci c'est que ce n'est pas vraiment drôle, on frôle même souvent le lourd ou le grotesque, le dernier quart d'heure en est la parfaite illustration !<br/>En conclusion : de bons comédiens, un thème principal engageant, mais un scénario totalement plat dans une ambiance générale frôlant dangereusement le loufoque.<br/>Sans grand intérêt.<br/>Site cinemadourg.free.fr   \n",
       "747                                                                                                                                                                                                                                                                                                                                                                                                                                                                                                                                                                                                                                                                           Je n ai pas vu la problématique se la toxicité de la masculinité scolaire ; juste des tranches de vie dans un lycée ordinaire.<br/>Je n ai vu que les questions que se pose un frèrene pouvant plus être le jeune frère de son aîné (car décédé) et qui n est pas encore le grand frère que son cadet (car pas encore né).<br/>Processus poussant Tom à se questionner sur le type de modèle qu’il souhaite représentépour son jeune frère ; prenant conscience de la toxicité de ses modèles (père et frère). Il trouve un début de réponse à travers JB et Clarisse (frère et sœur).   \n",
       "1667                                                                                                                                                                                                                                                                                                                                                                                                Relecture Américain du thriller asiatique \"Infernal Affairs\" par Martin Scorsese, The Departed s'avère particulièrement réussi. Il est porté par un luxueux casting, où tous les acteurs sont impeccables, notamment Leonardo DiCaprio et Matt Damon dans les deux rôles principaux, sans oublier la prestation de Jack Nicholson. Le rythme est effréné, dynamisé par une bande son rock'n roll dont Scorsese a le secret. La mise en scène est impeccable, tout comme la réalisation de Scorsese capable de plan vertigineux et de judicieux effets de style. Le scénario est bien écrit et passionnant, traité de manière intelligente, les thèmes de la loyauté ou de la tradition sont finement maitrisés, tout comme l'étude culturelle de la communauté Américaine et de ses immigrés. Du très grand art et encore une fois un grand film signé Scorsese.   \n",
       "1150  Une des plus mauvais adaptations du DCEU sur grand écran, le coté sombre et sérieux, laisse place à quelque chose de coloré, délirant, qui n'a plus rien à voir avec des films comme BVS, Justie League Snyder Cut. Le titre est Bird Of Prey mais le film aurait du s'appeler Harley Quinn tant celle ci s’approprie le devant de la scène ne laissant que des miettes à ses collègues féminins, et pour nos plus grand malheur. Margot Robbie a l'air de s'amuser en Harley Quinn, et c'est tant mieux mais aurait il valu convier les spectateurs à la fête, tant le spectacle qu'elle donne est pénible voir insupportable à regarder. Elle cabotine en Harley Quinn comme c'est pas possible, ce qui fait que le niveau de capital de sympathie est proche de zéro. A coté de cela, on a un personnage quasi invincible, ce qui l’éloigne encore des spectateurs tant on a l'impression que rien ne peut l'atteindre, et encore moins le méchant Black Mask, qui a plus sa place chez un psy tant ses sautes d'humeurs pose des questions sur la manière dont il est arrivé en haut de la pyramide de la pègre. Bref Harley Quinn est un ratage, un de plus pour le DCEU, qui doit avoir l'habitude après Suicide Squad et Justice League de Joss Whedon.   \n",
       "550                                                                                                                                                                                                                                                                                                                                                                                                                                                                                                                                                             Alors d'abord merci le confinement car sinon je pense que je n'aurais pas regardé ce film. Mais, j'aime bien Valérie LEMERCIER et Jonathan COHEN allez soyons fou. Du coup, Je me lance je regarde et ... ba l'actrice principal Melha BEDIA joue mal on y croit pas .... enfin moi personnellement ... L'ensemble des autres acteurs joue bien mais leurs histoires n'apportent rien à l'histoire principal (je pense à Alison wheeler et Bastien Ughetto ) Bref, je trouve cela mal ficelé, mal joué, on y croit pas dommage car le casting me donnait envie. j'ai quand regardé jusqu’à la fin... un peu comme un épisode de derrick on sait que cela n'est pas top mais on envie de voir la fin.   \n",
       "1116                                                                                                                                                                                                                                                                                                                                                                                                                                               Une affiche qui présente Florence Foresti, Michaël Youn, Alban Ivanov et Corinne Masiero au casting pourrait freiner les anti-comédies populaires françaises. Mais quand on regarde le nom du belge Olivier Van Hooffstadt à la réalisation, on se rappelle qu';il a sorti le déjanté et culte \"Dikkenek\"; en 2006. Quatorze ans plus tard, il nous présente une bande de bras cassés entre cas-sociaux et flics corrompus qui se préparent à voler une tonne de drogue à l'aide d'un chien volé de la brigade des stups. Incroyable mais vrai, Michaël Youn est bon ! Tout est absurde, mais tout est assumé \"Lucky\" vous offrira une bonne dose de jeux de mots et de situations à la fois tendres et délirantes.<br/>D'autres critiques sur notre page Facebook : Cinéphiles 44 et notre site cinephiles44.com   \n",
       "1680                                                                                                                                                                                                                                                                                                                                                                                                                                                                                                                                                                           Au début, j'avais mis 4/5 à ce film que j'avais vraiment trouvé extra. Puis il y a quelques temps, j'ai vu certaines critiques qui disaient que c'était un mauvais film, un remake raté... Alors je sais qu'il en faut pour tous les goûts mais là, dire ça des \"Infiltrés\", je me suis dit c'est pas possible de balancer une... bêtise pareille ! Il est tout juste excellent; complexe et sombre à la fois. Personnellement, c'est un des Scorsese que je préfère. Un des meilleurs films sur la pègre. Du coup, je lui mets volontiers 5/5. Un chef-d'œuvre. Damon, DiCaprio et Nicholson sont très bons dans leurs rôles, quant à la bande son, elle est tout simplement énorme.   \n",
       "\n",
       "      polarity  \n",
       "1461         1  \n",
       "1225         0  \n",
       "256          1  \n",
       "444          0  \n",
       "747          1  \n",
       "1667         1  \n",
       "1150         0  \n",
       "550          0  \n",
       "1116         1  \n",
       "1680         1  "
      ]
     },
     "execution_count": 26,
     "metadata": {},
     "output_type": "execute_result"
    }
   ],
   "source": [
    "min_num = min(dataset_df.groupby('polarity').size())\n",
    "min_num\n",
    "# The overall distribution of labels is balanced (100k pos and 100k neg).\n",
    "# We don't have to have train and testset perfectly balanced\n",
    "\n",
    "balanced_df = dataset_df.copy()\n",
    "\n",
    "MAX_REVIEWS_PER_POLARITY = min_num # ~ 100000\n",
    "# 4. Limit number of reviews per film\n",
    "grouped = balanced_df.groupby('polarity')\n",
    "for ids in grouped.groups.values():\n",
    "    num_reviews = len(ids)    \n",
    "    if num_reviews > MAX_REVIEWS_PER_POLARITY:\n",
    "        sampling_size = num_reviews - MAX_REVIEWS_PER_POLARITY\n",
    "        ids_to_drop = random.sample(list(ids), sampling_size)\n",
    "        balanced_df = balanced_df.drop(ids_to_drop)\n",
    "\n",
    "print(balanced_df.groupby('polarity').size())\n",
    "balanced_df.sample(10, random_state=42)"
   ]
  },
  {
   "cell_type": "markdown",
   "metadata": {},
   "source": [
    "## Gaussian"
   ]
  },
  {
   "cell_type": "code",
   "execution_count": 27,
   "metadata": {},
   "outputs": [],
   "source": [
    "reviews = balanced_df[\"review\"]\n",
    "labels = balanced_df[\"polarity\"]"
   ]
  },
  {
   "cell_type": "code",
   "execution_count": 28,
   "metadata": {},
   "outputs": [],
   "source": [
    "import re\n",
    "\n",
    "stop_words_fr = set([\n",
    "    'et', 'le', 'la', 'les', 'de', 'des', 'du', 'un', 'une', 'en', 'dans', 'que',\n",
    "    'qui', 'pour', 'par', 'sur', 'avec', 'pas', 'plus', 'ne', 'ce', 'se', 'au',\n",
    "    'aux', 'à', 'est', 'il', 'elle', 'on', 'nous', 'vous', 'ils', 'elles', 'mais',\n",
    "    'ou', 'donc', 'or', 'ni', 'car', 'comme'\n",
    "])\n",
    "\n",
    "def nettoyer_review(text):\n",
    "    text = text.lower()\n",
    "    text = re.sub(r\"<br\\s*/?>\", \" \", text)  # enlever balises HTML\n",
    "    text = re.sub(r\"[^a-zàâçéèêëîïôûùüÿñæœ\\s]\", \"\", text)  # enlever caractères spéciaux\n",
    "    tokens = text.split()\n",
    "    return [w for w in tokens if w not in stop_words_fr and len(w) > 1]"
   ]
  },
  {
   "cell_type": "code",
   "execution_count": 29,
   "metadata": {},
   "outputs": [],
   "source": [
    "from gensim.models import KeyedVectors\n",
    "\n",
    "fasttext_model = KeyedVectors.load_word2vec_format(\n",
    "    \"cc.fr.300.vec/cc.fr.300.vec\", \n",
    "    encoding='utf8',\n",
    "    binary=False\n",
    ")\n"
   ]
  },
  {
   "cell_type": "code",
   "execution_count": 30,
   "metadata": {},
   "outputs": [],
   "source": [
    "fasttext_model.save(\"fasttext_fr.bin\")"
   ]
  },
  {
   "cell_type": "code",
   "execution_count": 31,
   "metadata": {},
   "outputs": [],
   "source": [
    "fasttext_model = KeyedVectors.load(\"fasttext_fr.bin\")"
   ]
  },
  {
   "cell_type": "code",
   "execution_count": null,
   "metadata": {},
   "outputs": [],
   "source": [
    "import numpy as np\n",
    "\n",
    "def vectoriser_review(tokens, model, dim=300):\n",
    "    vecteurs = [model[word] for word in tokens if word in model]\n",
    "    if not vecteurs:\n",
    "        return np.zeros(dim)\n",
    "    return np.mean(vecteurs, axis=0)\n",
    "\n",
    "# Appliquer à tout le dataset\n",
    "X = np.vstack([vectoriser_review(nettoyer_review(review), fasttext_model) for review in reviews])\n"
   ]
  },
  {
   "cell_type": "code",
   "execution_count": null,
   "metadata": {},
   "outputs": [],
   "source": [
    "def vectoriser_review_padded(tokens, model, dim=300, max_len=20):\n",
    "    vecteurs = [model[word] for word in tokens if word in model]\n",
    "    \n",
    "    # Tronquer si trop long\n",
    "    if len(vecteurs) > max_len:\n",
    "        vecteurs = vecteurs[:max_len]\n",
    "    # Padding avec des vecteurs nuls\n",
    "    else:\n",
    "        vecteurs += [np.zeros(dim)] * (max_len - len(vecteurs))\n",
    "    \n",
    "    # Convertir en une seule ligne (flatten)\n",
    "    return np.array(vecteurs).flatten()\n",
    "\n",
    "X = np.vstack([\n",
    "    vectoriser_review_padded(nettoyer_review(review), fasttext_model)\n",
    "    for review in reviews\n",
    "])"
   ]
  },
  {
   "cell_type": "code",
   "execution_count": 55,
   "metadata": {},
   "outputs": [],
   "source": [
    "from sklearn.mixture import GaussianMixture\n",
    "\n",
    "gmm = GaussianMixture(n_components=20, covariance_type='full', random_state=42)\n",
    "gmm.fit(X)\n",
    "labels_pred = gmm.predict(X)\n",
    "balanced_df['cluster'] = labels_pred\n",
    "\n",
    "mapping = {}\n",
    "\n",
    "for cluster in np.unique(labels_pred):\n",
    "    dominant_class = balanced_df[balanced_df['cluster'] == cluster]['polarity'].mode()[0]\n",
    "    mapping[cluster] = dominant_class\n",
    "\n",
    "balanced_df['cluster_merged'] = balanced_df['cluster'].map(mapping)"
   ]
  },
  {
   "cell_type": "code",
   "execution_count": 56,
   "metadata": {},
   "outputs": [
    {
     "name": "stdout",
     "output_type": "stream",
     "text": [
      "full → accuracy : 0.5244\n",
      "tied → accuracy : 0.5244\n",
      "diag → accuracy : 0.5348\n",
      "spherical → accuracy : 0.5499\n"
     ]
    }
   ],
   "source": [
    "from sklearn.metrics import accuracy_score\n",
    "\n",
    "results = {}\n",
    "\n",
    "for cov_type in ['full', 'tied', 'diag', 'spherical']:\n",
    "    gmm = GaussianMixture(n_components=2, covariance_type=cov_type, random_state=42)\n",
    "    gmm.fit(X)\n",
    "    labels_pred = gmm.predict(X)\n",
    "    \n",
    "    # Corriger si les labels sont inversés\n",
    "    acc = max(\n",
    "        accuracy_score(labels, labels_pred),\n",
    "        accuracy_score(labels, 1 - labels_pred)\n",
    "    )\n",
    "    results[cov_type] = acc\n",
    "\n",
    "for k, v in results.items():\n",
    "    print(f\"{k} → accuracy : {v:.4f}\")\n"
   ]
  },
  {
   "cell_type": "code",
   "execution_count": 62,
   "metadata": {},
   "outputs": [
    {
     "name": "stdout",
     "output_type": "stream",
     "text": [
      "Accuracy : 0.5464037122969838\n",
      "Matrice de confusion :\n",
      " [[344  87]\n",
      " [304 127]]\n"
     ]
    }
   ],
   "source": [
    "from sklearn.metrics import confusion_matrix, accuracy_score\n",
    "\n",
    "# Ajuster les labels si besoin (on peut inverser les clusters si nécessaires)\n",
    "acc = accuracy_score(labels, balanced_df['cluster_merged'])\n",
    "conf = confusion_matrix(labels, balanced_df['cluster_merged'])\n",
    "\n",
    "print(\"Accuracy :\", acc)\n",
    "print(\"Matrice de confusion :\\n\", conf)\n"
   ]
  },
  {
   "cell_type": "code",
   "execution_count": 58,
   "metadata": {},
   "outputs": [
    {
     "data": {
      "text/html": [
       "<div>\n",
       "<style scoped>\n",
       "    .dataframe tbody tr th:only-of-type {\n",
       "        vertical-align: middle;\n",
       "    }\n",
       "\n",
       "    .dataframe tbody tr th {\n",
       "        vertical-align: top;\n",
       "    }\n",
       "\n",
       "    .dataframe thead th {\n",
       "        text-align: right;\n",
       "    }\n",
       "</style>\n",
       "<table border=\"1\" class=\"dataframe\">\n",
       "  <thead>\n",
       "    <tr style=\"text-align: right;\">\n",
       "      <th></th>\n",
       "      <th>film-url</th>\n",
       "      <th>review</th>\n",
       "      <th>polarity</th>\n",
       "      <th>cluster</th>\n",
       "      <th>cluster_merged</th>\n",
       "    </tr>\n",
       "  </thead>\n",
       "  <tbody>\n",
       "    <tr>\n",
       "      <th>1</th>\n",
       "      <td>http://www.allocine.fr/film/fichefilm-265567/critiques/spectateurs</td>\n",
       "      <td>\"Oh non, encore un film de guerre fait par les américains\" me suis-je dit instinctivement avant d'aller voir \"1917\". Mais bon, avec Sam Mendes aux commandes, il y a de quoi s'y risquer... et quels risques ! Je ne m'attendais pas à être autant \"embrigadé\" par le film. Le dispositif du (faux) plan-séquence qui s'étale sur deux heures est immersif au possible et m'a mis en apnée à plusieurs reprises. Pour ceux qui ne vont pas souvent au cinéma, je pense que \"1917\" gagne vraiment à être vu sur grand écran ; c'est du grand spectacle, furieux et magistral ! L'histoire, inspirée des récits du grand-père du réalisateur, raconte la mission périlleuse de deux soldats anglais qui consiste à passer en territoire ennemi afin de livrer un message vital qui sauvera la vie de milliers d'hommes. Le dispositif de Mendes s'articule autour de ce scénario et s'engage à plonger le spectateur dans l'action en ne lâchant jamais les deux protagonistes de vue : George MacKay et Dean-Charles Chapman font d'ailleurs preuve d'une endurance et d'une candeur remarquables. On est très près de leurs corps, avec une musique prégnante et intense, avec des mouvements de caméra absolument dingues, une multitude de décors racontant chacun une page de ce périple mais aussi un nombre incalculable de figurants et d'effets... Bref, une apothéose de cinéma qui transcende et secoue ! On a là une belle prouesse technique et cinématographique qui nous en met plein les yeux et nous donne l'impression d'être sur une montagne-russe... Je suis sorti de la salle éprouvé, comme si j'avais moi aussi parcouru cette longue distance avec les personnages. Cette expérience sensorielle est rare, surtout lorsque l'aspect technique met en valeur l'histoire et vice-versa. Bien entendu, aborder les tranchées de la Première Guerre mondiale fait écho à d'autres, plus récentes, et en cela, Sam Mendes assure un coup de maitre en évitant toute morale et en privilégiant les émotions fortes pour rendre hommage aux héros de guerre.</td>\n",
       "      <td>1</td>\n",
       "      <td>16</td>\n",
       "      <td>0</td>\n",
       "    </tr>\n",
       "    <tr>\n",
       "      <th>3</th>\n",
       "      <td>http://www.allocine.fr/film/fichefilm-265567/critiques/spectateurs</td>\n",
       "      <td>Après “American Beauty” ou les deux derniers James Bond “Skyfall” et “Spectre”, Sam Mendes nous emporte dans les tranchées de la Première Guerre Mondiale aux côtés de deux comédiens méconnus. “1917” va suivre deux jeunes soldats britanniques qui se voient assigner une mission suicidaire, celle de traverser le no man’s land et les lignes ennemies pour délivrer un message aux environs d’Ecoust-Saint-Mein qui permettra de sauver 1 600 soldats avant qu’ils ne tombent dans un piège tendu par l’armée allemande. Le réalisateur nous offre une expérience totalement immersive grâce à un faux plan séquence de deux heures. Ce défi technique qui nous rappelle “Birdman” n’avait jamais été fait sur un film de guerre. Oppressant à tout instant, le film déjoue l’épreuve de la temporalité et le spectateur aura l’impression de passer une journée entière en territoire hostile. George MacKay et Dean-Charles Chapman crèvent littéralement l’écran et nous font prendre conscience de l’engagement des soldats à servir notre nation. Bouleversant de bout en bout, la musique épique de Thomas Newman accentue l’importance d’une oeuvre qui restera dans nos mémoires pour longtemps.&lt;br/&gt;D'autres critiques sur notre page Facebook : Cinéphiles 44 et notre site cinephiles44.com</td>\n",
       "      <td>1</td>\n",
       "      <td>4</td>\n",
       "      <td>0</td>\n",
       "    </tr>\n",
       "    <tr>\n",
       "      <th>7</th>\n",
       "      <td>http://www.allocine.fr/film/fichefilm-265567/critiques/spectateurs</td>\n",
       "      <td>La première singularité du film est d'être tourné comme un unique plan séquence de près de 2h. En vérité ce système est loin d'être innovant, on peut ainsi citer des films comme \"La Corde\" (1948) de Hitchcock ou \"Snake Eyes\" (1998) de De Palma, ce qui ne gâche en rien la gageure d'un tel parti pris ! En effet, on reste bluffé par le concept où on suit les deux soldats à travers les tranchées, le no man's land, le front de par et d'autre sans discontinuer. On peut en effet tiquer sur la première partie où on reste perplexe par les Tommies qui sont tous bien rasés, qui sont en uniformes bien propres et dans des conditions un peu trop aseptisés. Mais ensuite on reste happé par le récit, tendu et prenant à chaque instant tant on est proche de ces deux soldats. En prime il y a également quelques passages dantesques comme la poursuite dans les ombres d'une ruine ou la course au milieu d'une charge de fantassins. Un bel hommage aux héros de 14-18.&lt;br/&gt;Site : Selenie</td>\n",
       "      <td>1</td>\n",
       "      <td>4</td>\n",
       "      <td>0</td>\n",
       "    </tr>\n",
       "    <tr>\n",
       "      <th>8</th>\n",
       "      <td>http://www.allocine.fr/film/fichefilm-265567/critiques/spectateurs</td>\n",
       "      <td>1917 est un grand film ! Une œuvre importante. Une expérience immersive des plus sublime. Veillez m'excuser si j'hésite sur les mots, je suis encore sous le choc.&lt;br/&gt;Ici, l'auteur de Skyfall a choisi de mettre en scène un long-métrage qui relève de la prouesse technique, visuelle et artistique, en collaborant notamment avec le génie de la composition des cadres et des couleurs : Roger Deakins. Autant vous dire, l'esthétique et la photographie sont splendides. Bien entendu, Mendes n'invente rien, il s'inspire, mais propose un ensemble plus que mémorable. Ce dernier se permet même quelques séquences oniriques durant la bataille, renforçant ainsi l'impression d'être dans un rêve orangé...&lt;br/&gt;Entre technicité irréprochable et réussite immersive, le public ne pourra qu'être ravi. Les amateurs de plans-séquences quant à eux tomberont inlassablement amoureux de l'œuvre.</td>\n",
       "      <td>1</td>\n",
       "      <td>4</td>\n",
       "      <td>0</td>\n",
       "    </tr>\n",
       "    <tr>\n",
       "      <th>10</th>\n",
       "      <td>http://www.allocine.fr/film/fichefilm-265567/critiques/spectateurs</td>\n",
       "      <td>Un excellent film de guerre avec une grande intensité dramatique du début à la fin. Une très belle réalisation. Un film oscarisable.</td>\n",
       "      <td>1</td>\n",
       "      <td>3</td>\n",
       "      <td>1</td>\n",
       "    </tr>\n",
       "  </tbody>\n",
       "</table>\n",
       "</div>"
      ],
      "text/plain": [
       "                                                              film-url  \\\n",
       "1   http://www.allocine.fr/film/fichefilm-265567/critiques/spectateurs   \n",
       "3   http://www.allocine.fr/film/fichefilm-265567/critiques/spectateurs   \n",
       "7   http://www.allocine.fr/film/fichefilm-265567/critiques/spectateurs   \n",
       "8   http://www.allocine.fr/film/fichefilm-265567/critiques/spectateurs   \n",
       "10  http://www.allocine.fr/film/fichefilm-265567/critiques/spectateurs   \n",
       "\n",
       "                                                                                                                                                                                                                                                                                                                                                                                                                                                                                                                                                                                                                                                                                                                                                                                                                                                                                                                                                                                                                                                                                                                                                                                                                                                                                                                                                                                                                                                                                                                                                                                                                                                                                                                                                                                                                                                                                                                                                                                                                                                                          review  \\\n",
       "1   \"Oh non, encore un film de guerre fait par les américains\" me suis-je dit instinctivement avant d'aller voir \"1917\". Mais bon, avec Sam Mendes aux commandes, il y a de quoi s'y risquer... et quels risques ! Je ne m'attendais pas à être autant \"embrigadé\" par le film. Le dispositif du (faux) plan-séquence qui s'étale sur deux heures est immersif au possible et m'a mis en apnée à plusieurs reprises. Pour ceux qui ne vont pas souvent au cinéma, je pense que \"1917\" gagne vraiment à être vu sur grand écran ; c'est du grand spectacle, furieux et magistral ! L'histoire, inspirée des récits du grand-père du réalisateur, raconte la mission périlleuse de deux soldats anglais qui consiste à passer en territoire ennemi afin de livrer un message vital qui sauvera la vie de milliers d'hommes. Le dispositif de Mendes s'articule autour de ce scénario et s'engage à plonger le spectateur dans l'action en ne lâchant jamais les deux protagonistes de vue : George MacKay et Dean-Charles Chapman font d'ailleurs preuve d'une endurance et d'une candeur remarquables. On est très près de leurs corps, avec une musique prégnante et intense, avec des mouvements de caméra absolument dingues, une multitude de décors racontant chacun une page de ce périple mais aussi un nombre incalculable de figurants et d'effets... Bref, une apothéose de cinéma qui transcende et secoue ! On a là une belle prouesse technique et cinématographique qui nous en met plein les yeux et nous donne l'impression d'être sur une montagne-russe... Je suis sorti de la salle éprouvé, comme si j'avais moi aussi parcouru cette longue distance avec les personnages. Cette expérience sensorielle est rare, surtout lorsque l'aspect technique met en valeur l'histoire et vice-versa. Bien entendu, aborder les tranchées de la Première Guerre mondiale fait écho à d'autres, plus récentes, et en cela, Sam Mendes assure un coup de maitre en évitant toute morale et en privilégiant les émotions fortes pour rendre hommage aux héros de guerre.   \n",
       "3                                                                                                                                                                                                                                                                                                                                                                                                                                                                                                                                                                                                                                                                                                                                                                   Après “American Beauty” ou les deux derniers James Bond “Skyfall” et “Spectre”, Sam Mendes nous emporte dans les tranchées de la Première Guerre Mondiale aux côtés de deux comédiens méconnus. “1917” va suivre deux jeunes soldats britanniques qui se voient assigner une mission suicidaire, celle de traverser le no man’s land et les lignes ennemies pour délivrer un message aux environs d’Ecoust-Saint-Mein qui permettra de sauver 1 600 soldats avant qu’ils ne tombent dans un piège tendu par l’armée allemande. Le réalisateur nous offre une expérience totalement immersive grâce à un faux plan séquence de deux heures. Ce défi technique qui nous rappelle “Birdman” n’avait jamais été fait sur un film de guerre. Oppressant à tout instant, le film déjoue l’épreuve de la temporalité et le spectateur aura l’impression de passer une journée entière en territoire hostile. George MacKay et Dean-Charles Chapman crèvent littéralement l’écran et nous font prendre conscience de l’engagement des soldats à servir notre nation. Bouleversant de bout en bout, la musique épique de Thomas Newman accentue l’importance d’une oeuvre qui restera dans nos mémoires pour longtemps.<br/>D'autres critiques sur notre page Facebook : Cinéphiles 44 et notre site cinephiles44.com   \n",
       "7                                                                                                                                                                                                                                                                                                                                                                                                                                                                                                                                                                                                                                                                                                                                                                                                                                                                                                                                                                                                                                                                  La première singularité du film est d'être tourné comme un unique plan séquence de près de 2h. En vérité ce système est loin d'être innovant, on peut ainsi citer des films comme \"La Corde\" (1948) de Hitchcock ou \"Snake Eyes\" (1998) de De Palma, ce qui ne gâche en rien la gageure d'un tel parti pris ! En effet, on reste bluffé par le concept où on suit les deux soldats à travers les tranchées, le no man's land, le front de par et d'autre sans discontinuer. On peut en effet tiquer sur la première partie où on reste perplexe par les Tommies qui sont tous bien rasés, qui sont en uniformes bien propres et dans des conditions un peu trop aseptisés. Mais ensuite on reste happé par le récit, tendu et prenant à chaque instant tant on est proche de ces deux soldats. En prime il y a également quelques passages dantesques comme la poursuite dans les ombres d'une ruine ou la course au milieu d'une charge de fantassins. Un bel hommage aux héros de 14-18.<br/>Site : Selenie   \n",
       "8                                                                                                                                                                                                                                                                                                                                                                                                                                                                                                                                                                                                                                                                                                                                                                                                                                                                                                                                                                                                                                                                                                                                                                  1917 est un grand film ! Une œuvre importante. Une expérience immersive des plus sublime. Veillez m'excuser si j'hésite sur les mots, je suis encore sous le choc.<br/>Ici, l'auteur de Skyfall a choisi de mettre en scène un long-métrage qui relève de la prouesse technique, visuelle et artistique, en collaborant notamment avec le génie de la composition des cadres et des couleurs : Roger Deakins. Autant vous dire, l'esthétique et la photographie sont splendides. Bien entendu, Mendes n'invente rien, il s'inspire, mais propose un ensemble plus que mémorable. Ce dernier se permet même quelques séquences oniriques durant la bataille, renforçant ainsi l'impression d'être dans un rêve orangé...<br/>Entre technicité irréprochable et réussite immersive, le public ne pourra qu'être ravi. Les amateurs de plans-séquences quant à eux tomberont inlassablement amoureux de l'œuvre.   \n",
       "10                                                                                                                                                                                                                                                                                                                                                                                                                                                                                                                                                                                                                                                                                                                                                                                                                                                                                                                                                                                                                                                                                                                                                                                                                                                                                                                                                                                                                                                                                                                                                                                                                                                                                                                                                                                                                                                                                                                                          Un excellent film de guerre avec une grande intensité dramatique du début à la fin. Une très belle réalisation. Un film oscarisable.   \n",
       "\n",
       "    polarity  cluster  cluster_merged  \n",
       "1          1       16               0  \n",
       "3          1        4               0  \n",
       "7          1        4               0  \n",
       "8          1        4               0  \n",
       "10         1        3               1  "
      ]
     },
     "execution_count": 58,
     "metadata": {},
     "output_type": "execute_result"
    }
   ],
   "source": [
    "balanced_df.head()"
   ]
  },
  {
   "cell_type": "code",
   "execution_count": null,
   "metadata": {},
   "outputs": [],
   "source": [
    "import matplotlib.pyplot as plt\n",
    "from sklearn.decomposition import PCA\n",
    "\n",
    "X_pca = PCA(n_components=5).fit_transform(X)\n",
    "\n",
    "plt.figure(figsize=(8, 6))\n",
    "plt.scatter(X_pca[:, 4], X_pca[:, 2], c=labels_pred, cmap=\"coolwarm\", alpha=0.6)\n",
    "plt.title(\"Clusters GMM sur les reviews vectorisées avec FastText\")\n",
    "plt.xlabel(\"PCA 1\")\n",
    "plt.ylabel(\"PCA 2\")\n",
    "plt.show()"
   ]
  },
  {
   "cell_type": "code",
   "execution_count": null,
   "metadata": {},
   "outputs": [],
   "source": []
  }
 ],
 "metadata": {
  "kernelspec": {
   "display_name": "base",
   "language": "python",
   "name": "python3"
  },
  "language_info": {
   "codemirror_mode": {
    "name": "ipython",
    "version": 3
   },
   "file_extension": ".py",
   "mimetype": "text/x-python",
   "name": "python",
   "nbconvert_exporter": "python",
   "pygments_lexer": "ipython3",
   "version": "3.12.4"
  }
 },
 "nbformat": 4,
 "nbformat_minor": 4
}
