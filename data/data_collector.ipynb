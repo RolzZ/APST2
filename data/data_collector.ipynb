{
 "cells": [
  {
   "cell_type": "markdown",
   "metadata": {},
   "source": [
    "# Data Collector"
   ]
  },
  {
   "cell_type": "code",
   "execution_count": 1,
   "metadata": {},
   "outputs": [],
   "source": [
    "ROOT_URL = \"http://www.allocine.fr\"\n",
    "URL_FILE = 'allocine_films_urls.txt'"
   ]
  },
  {
   "cell_type": "markdown",
   "metadata": {},
   "source": [
    "## Loading URLs"
   ]
  },
  {
   "cell_type": "code",
   "execution_count": 2,
   "metadata": {},
   "outputs": [],
   "source": [
    "urls = []\n",
    "with open(URL_FILE, 'r') as f:\n",
    "    urls = f.read().splitlines()"
   ]
  },
  {
   "cell_type": "markdown",
   "metadata": {},
   "source": [
    "## Loading Reviews"
   ]
  },
  {
   "cell_type": "code",
   "execution_count": 3,
   "metadata": {},
   "outputs": [
    {
     "name": "stderr",
     "output_type": "stream",
     "text": [
      "/Users/clementley/Documents/ECN 2024-2025/APST2/Projet/data/allocine_scraper.py:67: MarkupResemblesLocatorWarning: The input looks more like a filename than markup. You may want to open this file and pass the filehandle into Beautiful Soup.\n",
      "  content_soup = BeautifulSoup(content_str, 'html.parser')\n"
     ]
    },
    {
     "data": {
      "text/html": [
       "<div>\n",
       "<style scoped>\n",
       "    .dataframe tbody tr th:only-of-type {\n",
       "        vertical-align: middle;\n",
       "    }\n",
       "\n",
       "    .dataframe tbody tr th {\n",
       "        vertical-align: top;\n",
       "    }\n",
       "\n",
       "    .dataframe thead th {\n",
       "        text-align: right;\n",
       "    }\n",
       "</style>\n",
       "<table border=\"1\" class=\"dataframe\">\n",
       "  <thead>\n",
       "    <tr style=\"text-align: right;\">\n",
       "      <th></th>\n",
       "      <th>film-url</th>\n",
       "      <th>rating</th>\n",
       "      <th>review</th>\n",
       "      <th>date</th>\n",
       "      <th>helpful</th>\n",
       "      <th>unhelpful</th>\n",
       "    </tr>\n",
       "  </thead>\n",
       "  <tbody>\n",
       "    <tr>\n",
       "      <th>0</th>\n",
       "      <td>http://www.allocine.fr/film/fichefilm-265567/c...</td>\n",
       "      <td>5.0</td>\n",
       "      <td>1917, comme son nom l'indique, raconte l'histo...</td>\n",
       "      <td>2022-08-21</td>\n",
       "      <td>22</td>\n",
       "      <td>3</td>\n",
       "    </tr>\n",
       "    <tr>\n",
       "      <th>1</th>\n",
       "      <td>http://www.allocine.fr/film/fichefilm-265567/c...</td>\n",
       "      <td>4.5</td>\n",
       "      <td>\"Oh non, encore un film de guerre fait par les...</td>\n",
       "      <td>2020-01-21</td>\n",
       "      <td>50</td>\n",
       "      <td>27</td>\n",
       "    </tr>\n",
       "    <tr>\n",
       "      <th>2</th>\n",
       "      <td>http://www.allocine.fr/film/fichefilm-265567/c...</td>\n",
       "      <td>3.5</td>\n",
       "      <td>Allez soyons franc, « 1917 » est un film de gu...</td>\n",
       "      <td>2020-01-20</td>\n",
       "      <td>46</td>\n",
       "      <td>32</td>\n",
       "    </tr>\n",
       "  </tbody>\n",
       "</table>\n",
       "</div>"
      ],
      "text/plain": [
       "                                            film-url  rating  \\\n",
       "0  http://www.allocine.fr/film/fichefilm-265567/c...     5.0   \n",
       "1  http://www.allocine.fr/film/fichefilm-265567/c...     4.5   \n",
       "2  http://www.allocine.fr/film/fichefilm-265567/c...     3.5   \n",
       "\n",
       "                                              review        date  helpful  \\\n",
       "0  1917, comme son nom l'indique, raconte l'histo...  2022-08-21       22   \n",
       "1  \"Oh non, encore un film de guerre fait par les...  2020-01-21       50   \n",
       "2  Allez soyons franc, « 1917 » est un film de gu...  2020-01-20       46   \n",
       "\n",
       "   unhelpful  \n",
       "0          3  \n",
       "1         27  \n",
       "2         32  "
      ]
     },
     "execution_count": 3,
     "metadata": {},
     "output_type": "execute_result"
    }
   ],
   "source": [
    "# Example\n",
    "\n",
    "import pandas as pd\n",
    "from allocine_scraper import get_film_reviews\n",
    "\n",
    "example = get_film_reviews(ROOT_URL, [urls[0]], 3)\n",
    "example_df = pd.DataFrame.from_dict(example)\n",
    "example_df\n"
   ]
  },
  {
   "cell_type": "code",
   "execution_count": 5,
   "metadata": {},
   "outputs": [
    {
     "name": "stderr",
     "output_type": "stream",
     "text": [
      "/Users/clementley/Documents/ECN 2024-2025/APST2/Projet/data/allocine_scraper.py:67: MarkupResemblesLocatorWarning: The input looks more like a filename than markup. You may want to open this file and pass the filehandle into Beautiful Soup.\n",
      "  content_soup = BeautifulSoup(content_str, 'html.parser')\n"
     ]
    },
    {
     "name": "stdout",
     "output_type": "stream",
     "text": [
      "Error code 404. Skipping: http://www.allocine.fr/film/fichefilm-275633/critiques/spectateurs\n"
     ]
    }
   ],
   "source": [
    "import pandas as pd\n",
    "from allocine_scraper import get_film_reviews\n",
    "\n",
    "# Saving a n-reviews dataset\n",
    "n = 100\n",
    "OUTPUT_PATH = 'dataset/reviews.pickle'\n",
    "REVIEWS_PER_FILM = 10\n",
    "\n",
    "dic = get_film_reviews(ROOT_URL, urls[0:int(n/REVIEWS_PER_FILM)], REVIEWS_PER_FILM)\n",
    "df = pd.DataFrame.from_dict(dic)\n",
    "df.to_pickle(OUTPUT_PATH)"
   ]
  }
 ],
 "metadata": {
  "kernelspec": {
   "display_name": "base",
   "language": "python",
   "name": "python3"
  },
  "language_info": {
   "codemirror_mode": {
    "name": "ipython",
    "version": 3
   },
   "file_extension": ".py",
   "mimetype": "text/x-python",
   "name": "python",
   "nbconvert_exporter": "python",
   "pygments_lexer": "ipython3",
   "version": "3.12.4"
  }
 },
 "nbformat": 4,
 "nbformat_minor": 2
}
